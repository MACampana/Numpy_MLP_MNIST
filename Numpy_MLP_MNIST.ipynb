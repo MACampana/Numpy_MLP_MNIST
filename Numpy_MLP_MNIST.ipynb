{
 "cells": [
  {
   "cell_type": "code",
   "execution_count": 1,
   "id": "f94d6ddd-38f0-4194-b199-b7de536d046a",
   "metadata": {},
   "outputs": [],
   "source": [
    "#MLP Classifier for MNIST digit images built from scratch with Numpy"
   ]
  },
  {
   "cell_type": "code",
   "execution_count": 2,
   "id": "88ed583e-c3ba-4a04-85d3-c5c20d5e2259",
   "metadata": {
    "scrolled": true
   },
   "outputs": [
    {
     "name": "stderr",
     "output_type": "stream",
     "text": [
      "2024-10-16 13:31:50.908951: I external/local_xla/xla/tsl/cuda/cudart_stub.cc:32] Could not find cuda drivers on your machine, GPU will not be used.\n",
      "2024-10-16 13:31:50.913878: I external/local_xla/xla/tsl/cuda/cudart_stub.cc:32] Could not find cuda drivers on your machine, GPU will not be used.\n",
      "2024-10-16 13:31:50.928606: E external/local_xla/xla/stream_executor/cuda/cuda_fft.cc:485] Unable to register cuFFT factory: Attempting to register factory for plugin cuFFT when one has already been registered\n",
      "2024-10-16 13:31:50.951665: E external/local_xla/xla/stream_executor/cuda/cuda_dnn.cc:8454] Unable to register cuDNN factory: Attempting to register factory for plugin cuDNN when one has already been registered\n",
      "2024-10-16 13:31:50.958475: E external/local_xla/xla/stream_executor/cuda/cuda_blas.cc:1452] Unable to register cuBLAS factory: Attempting to register factory for plugin cuBLAS when one has already been registered\n",
      "2024-10-16 13:31:50.976169: I tensorflow/core/platform/cpu_feature_guard.cc:210] This TensorFlow binary is optimized to use available CPU instructions in performance-critical operations.\n",
      "To enable the following instructions: AVX2 FMA, in other operations, rebuild TensorFlow with the appropriate compiler flags.\n",
      "2024-10-16 13:31:53.682613: W tensorflow/compiler/tf2tensorrt/utils/py_utils.cc:38] TF-TRT Warning: Could not find TensorRT\n"
     ]
    }
   ],
   "source": [
    "#Imports\n",
    "import keras\n",
    "import matplotlib.pyplot as plt\n",
    "import numpy as np\n",
    "from tqdm import trange\n",
    "from IPython.display import clear_output"
   ]
  },
  {
   "cell_type": "code",
   "execution_count": 3,
   "id": "6eb83407-0a11-4ded-88eb-69d065f3479b",
   "metadata": {},
   "outputs": [],
   "source": [
    "#First create a dummy layer class to be inherited by layers\n",
    "class Layer:\n",
    "    #Each layer has a forward and backward step, and possibly some initialized parameters\n",
    "    #Forward takes input from previous layer and produces output\n",
    "    #Backward takes gradients from next (output) layer and the input to get gradient and adjust weights/biases\n",
    "    def __init__(self):\n",
    "        #Dummy layer passes\n",
    "        pass\n",
    "\n",
    "    def forward(self, input):\n",
    "        #Dummy layer returns input\n",
    "        return input\n",
    "\n",
    "    def backward(self, input, grad_output):\n",
    "        #Dummy layer returns gradient of loss wrt output grad_output, but here we are more explicit\n",
    "        #The gradient is d_loss/d_input = d_loss/d_layerOutput * d_layerOutput/d_input\n",
    "        num_units = input.shape[1]\n",
    "        d_layer_d_input = np.eye(num_units)\n",
    "\n",
    "        return np.dot(grad_output, d_layer_d_input) # = d_loss / d_input via Chain Rule"
   ]
  },
  {
   "cell_type": "code",
   "execution_count": 4,
   "id": "696001d4-b466-48e4-91e1-103dd1a0897f",
   "metadata": {},
   "outputs": [],
   "source": [
    "#Now we will define the specific layers\n",
    "#Starting with the activation: ReLU\n",
    "class ReLU(Layer):\n",
    "    def __init__(self):\n",
    "        #No parameters to initialize\n",
    "        pass\n",
    "\n",
    "    def forward(self, input):\n",
    "        relu = np.maximum(0, input)\n",
    "        return relu\n",
    "\n",
    "    def backward(self, input, grad_output):\n",
    "        relu_grad = input > 0 #i.e., 1 if input is >0, 0 if input is <=0\n",
    "        return grad_output * relu_grad #Hence, why relu can lead to vanishing gradients"
   ]
  },
  {
   "cell_type": "code",
   "execution_count": 63,
   "id": "96061742-3058-44fb-b2a3-fc1285ecfe6b",
   "metadata": {},
   "outputs": [],
   "source": [
    "#Now we will define the specific layers\n",
    "class Sigmoid(Layer):\n",
    "    def __init__(self):\n",
    "        #No parameters to initialize\n",
    "        pass\n",
    "\n",
    "    def forward(self, input):\n",
    "        sigmoid = 1/(1 + np.exp(-input)) \n",
    "        return sigmoid\n",
    "\n",
    "    def backward(self, input, grad_output):\n",
    "        sigmoid_grad = np.exp(-input)/(1 + np.exp(-input))**2 \n",
    "        return grad_output * sigmoid_grad "
   ]
  },
  {
   "cell_type": "code",
   "execution_count": 5,
   "id": "16dc1dfd-d53e-4766-8d1a-8033816363c3",
   "metadata": {},
   "outputs": [],
   "source": [
    "#Next, the Dense layer\n",
    "class Dense(Layer):\n",
    "    def __init__(self, input_units, output_units, learning_rate=0.1):\n",
    "        self.learning_rate = learning_rate\n",
    "\n",
    "        #Initializing weights using \"Xavier Initialization\"\n",
    "        self.weights = np.random.normal(loc=0.0, scale=np.sqrt(2/(input_units+output_units)), \n",
    "                                        size=(input_units, output_units))\n",
    "\n",
    "        #Initializing biases to 0\n",
    "        self.biases = np.zeros(output_units)\n",
    "        return\n",
    "\n",
    "    def forward(self, input):\n",
    "        #f(x) = W*x + b\n",
    "        return np.dot(input, self.weights) + self.biases\n",
    "\n",
    "    def backward(self, input, grad_output):\n",
    "        #Here d_layer/d_input is the weights (transposed)\n",
    "        grad_input = np.dot(grad_output, self.weights.T) #Becomes grad_output for previous layer\n",
    "\n",
    "        #Also get gradients WRT weights and biases to make adjustments\n",
    "        grad_weights = np.dot(input.T, grad_output)\n",
    "        grad_biases = grad_output.mean(axis=0)*input.shape[0]\n",
    "\n",
    "        assert grad_weights.shape == self.weights.shape and grad_biases.shape == self.biases.shape\n",
    "\n",
    "        #SGD adjustments to weights and biases\n",
    "        self.weights = self.weights - self.learning_rate * grad_weights\n",
    "        self.biases = self.biases - self.learning_rate * grad_biases\n",
    "\n",
    "        return grad_input"
   ]
  },
  {
   "cell_type": "code",
   "execution_count": 6,
   "id": "472e2257-5474-4795-b50a-521f9123db2c",
   "metadata": {},
   "outputs": [],
   "source": [
    "#Here I define the loss function, Log-Softmax, \n",
    "#    which combines the softmax activation with cross-entropy loss\n",
    "def softmax_crossentropy(logits, reference_answers):\n",
    "    #Cross entropy from logits[batch_size, n_classes] and correct answers\n",
    "    #Here, logits are the output of last hidden layer that get input here\n",
    "    logits_for_answers = logits[np.arange(len(logits)), reference_answers]\n",
    "\n",
    "    xentropy = -logits_for_answers + np.log(np.sum(np.exp(logits), axis=-1))\n",
    "\n",
    "    return xentropy\n",
    "\n",
    "#And the gradient of the loss function\n",
    "def grad_softmax_crossentropy(logits, reference_answers):\n",
    "    ones_for_answers = np.zeros_like(logits)\n",
    "    ones_for_answers[np.arange(len(logits)), reference_answers] = 1\n",
    "\n",
    "    softmax = np.exp(logits) / (np.exp(logits).sum(axis=-1, keepdims=True)) #derivative of log(x) includes x\n",
    "    \n",
    "    return (-ones_for_answers * softmax) / logits.shape[0]"
   ]
  },
  {
   "cell_type": "code",
   "execution_count": 7,
   "id": "6db3ad2b-a89f-46ea-b44b-0a8f7acc4534",
   "metadata": {},
   "outputs": [],
   "source": [
    "#Layers and loss are defined, lets load some data\n",
    "def load_data(flatten=False):\n",
    "    (X_train, y_train), (X_test, y_test) = keras.datasets.mnist.load_data()\n",
    "\n",
    "    #Normalize inputs\n",
    "    X_train = X_train.astype(float) / 255.\n",
    "    X_test = X_test.astype(float) / 255.\n",
    "    \n",
    "    #Reserve the last 10000 training examples for validation\n",
    "    X_train, X_val = X_train[:-10000], X_train[-10000:]\n",
    "    y_train, y_val = y_train[:-10000], y_train[-10000:]\n",
    "    \n",
    "    if flatten: #Each input goes from MxN image to M*N length array for input\n",
    "        X_train = X_train.reshape([X_train.shape[0], -1])\n",
    "        X_val = X_val.reshape([X_val.shape[0], -1])\n",
    "        X_test = X_test.reshape([X_test.shape[0], -1])\n",
    "        \n",
    "    return X_train, y_train, X_val, y_val, X_test, y_test\n",
    "    \n",
    "X_train, y_train, X_val, y_val, X_test, y_test = load_data(flatten=True)"
   ]
  },
  {
   "cell_type": "code",
   "execution_count": 8,
   "id": "eb6f651d-4d03-4d68-b516-3555dd5864b1",
   "metadata": {},
   "outputs": [
    {
     "data": {
      "image/png": "[encoded data removed]",
      "text/plain": [
       "<Figure size 600x600 with 4 Axes>"
      ]
     },
     "metadata": {},
     "output_type": "display_data"
    }
   ],
   "source": [
    "#Visualize!\n",
    "plt.figure(figsize=[6,6])\n",
    "for i in range(4):\n",
    "    plt.subplot(2,2,i+1)\n",
    "    plt.title(\"Label: %i\"%y_train[i])\n",
    "    plt.imshow(X_train[i].reshape([28,28]),cmap='gray')\n",
    "plt.show()"
   ]
  },
  {
   "cell_type": "code",
   "execution_count": 71,
   "id": "4371f884-06ea-49f2-afa8-df900bb4ca11",
   "metadata": {},
   "outputs": [],
   "source": [
    "#Build Model\n",
    "network = []\n",
    "network.append(Dense(X_train.shape[1],100, learning_rate=0.0001))\n",
    "network.append(ReLU())\n",
    "network.append(Dense(100,200, learning_rate=0.0001))\n",
    "network.append(ReLU())\n",
    "network.append(Dense(200,10, learning_rate=0.0001))\n",
    "\n",
    "def forward(network, input):\n",
    "    #Compute activations for layers sequentially\n",
    "    activations = []\n",
    "\n",
    "    #Loop through layers:\n",
    "    for l in network:\n",
    "        activations.append(l.forward(input))\n",
    "\n",
    "        #Update input to be output of this layer\n",
    "        input = activations[-1]\n",
    "\n",
    "    assert len(activations) == len(network)\n",
    "\n",
    "    return activations\n",
    "\n",
    "def predict(network, input):\n",
    "    #Make predictions\n",
    "    logits = forward(network, input)[-1]\n",
    "\n",
    "    #Return the indices of highest logit\n",
    "    return np.argmax(logits, axis=-1)\n",
    "\n",
    "def train(network, input, labels):\n",
    "    #Train model with forward and backward propagations\n",
    "    layer_activations = forward(network, input)\n",
    "    layer_inputs = [input] + layer_activations\n",
    "    logits = layer_activations[-1]\n",
    "    \n",
    "    #Get loss and first gradient\n",
    "    loss = softmax_crossentropy(logits, labels)\n",
    "    loss_grad = grad_softmax_crossentropy(logits, labels)\n",
    "\n",
    "    #Backpropagation\n",
    "    for layer_index in range(len(network))[::-1]:\n",
    "        layer = network[layer_index]\n",
    "        loss_grad = layer.backward(layer_inputs[layer_index],loss_grad)\n",
    "\n",
    "    return np.mean(loss)"
   ]
  },
  {
   "cell_type": "code",
   "execution_count": 72,
   "id": "0e02874a-c052-4eed-b1ee-965231023f7b",
   "metadata": {},
   "outputs": [
    {
     "name": "stdout",
     "output_type": "stream",
     "text": [
      "Epoch 1\n",
      "Train accuracy: 0.13768\n",
      "Val accuracy: 0.1331\n"
     ]
    },
    {
     "data": {
      "image/png": "[encoded data removed]",
      "text/plain": [
       "<Figure size 640x480 with 1 Axes>"
      ]
     },
     "metadata": {},
     "output_type": "display_data"
    },
    {
     "name": "stderr",
     "output_type": "stream",
     "text": [
      " 47%|███████████████████████████████████████████████████████████████████████                                                                                 | 365/781 [00:01<00:02, 188.84it/s]\n"
     ]
    },
    {
     "ename": "KeyboardInterrupt",
     "evalue": "",
     "output_type": "error",
     "traceback": [
      "\u001b[0;31m---------------------------------------------------------------------------\u001b[0m",
      "\u001b[0;31mKeyboardInterrupt\u001b[0m                         Traceback (most recent call last)",
      "Cell \u001b[0;32mIn[72], line 21\u001b[0m\n\u001b[1;32m     19\u001b[0m \u001b[38;5;28;01mfor\u001b[39;00m epoch \u001b[38;5;129;01min\u001b[39;00m \u001b[38;5;28mrange\u001b[39m(\u001b[38;5;241m100\u001b[39m):\n\u001b[1;32m     20\u001b[0m     \u001b[38;5;28;01mfor\u001b[39;00m x_batch,y_batch \u001b[38;5;129;01min\u001b[39;00m iterate_minibatches(X_train,y_train,batchsize\u001b[38;5;241m=\u001b[39m\u001b[38;5;241m64\u001b[39m,shuffle\u001b[38;5;241m=\u001b[39m\u001b[38;5;28;01mTrue\u001b[39;00m):\n\u001b[0;32m---> 21\u001b[0m         \u001b[43mtrain\u001b[49m\u001b[43m(\u001b[49m\u001b[43mnetwork\u001b[49m\u001b[43m,\u001b[49m\u001b[43mx_batch\u001b[49m\u001b[43m,\u001b[49m\u001b[43my_batch\u001b[49m\u001b[43m)\u001b[49m\n\u001b[1;32m     23\u001b[0m     train_log\u001b[38;5;241m.\u001b[39mappend(np\u001b[38;5;241m.\u001b[39mmean(predict(network,X_train)\u001b[38;5;241m==\u001b[39my_train))\n\u001b[1;32m     24\u001b[0m     val_log\u001b[38;5;241m.\u001b[39mappend(np\u001b[38;5;241m.\u001b[39mmean(predict(network,X_val)\u001b[38;5;241m==\u001b[39my_val))\n",
      "Cell \u001b[0;32mIn[71], line 33\u001b[0m, in \u001b[0;36mtrain\u001b[0;34m(network, input, labels)\u001b[0m\n\u001b[1;32m     31\u001b[0m \u001b[38;5;28;01mdef\u001b[39;00m \u001b[38;5;21mtrain\u001b[39m(network, \u001b[38;5;28minput\u001b[39m, labels):\n\u001b[1;32m     32\u001b[0m     \u001b[38;5;66;03m#Train model with forward and backward propagations\u001b[39;00m\n\u001b[0;32m---> 33\u001b[0m     layer_activations \u001b[38;5;241m=\u001b[39m \u001b[43mforward\u001b[49m\u001b[43m(\u001b[49m\u001b[43mnetwork\u001b[49m\u001b[43m,\u001b[49m\u001b[43m \u001b[49m\u001b[38;5;28;43minput\u001b[39;49m\u001b[43m)\u001b[49m\n\u001b[1;32m     34\u001b[0m     layer_inputs \u001b[38;5;241m=\u001b[39m [\u001b[38;5;28minput\u001b[39m] \u001b[38;5;241m+\u001b[39m layer_activations\n\u001b[1;32m     35\u001b[0m     logits \u001b[38;5;241m=\u001b[39m layer_activations[\u001b[38;5;241m-\u001b[39m\u001b[38;5;241m1\u001b[39m]\n",
      "Cell \u001b[0;32mIn[71], line 15\u001b[0m, in \u001b[0;36mforward\u001b[0;34m(network, input)\u001b[0m\n\u001b[1;32m     13\u001b[0m \u001b[38;5;66;03m#Loop through layers:\u001b[39;00m\n\u001b[1;32m     14\u001b[0m \u001b[38;5;28;01mfor\u001b[39;00m l \u001b[38;5;129;01min\u001b[39;00m network:\n\u001b[0;32m---> 15\u001b[0m     activations\u001b[38;5;241m.\u001b[39mappend(\u001b[43ml\u001b[49m\u001b[38;5;241;43m.\u001b[39;49m\u001b[43mforward\u001b[49m\u001b[43m(\u001b[49m\u001b[38;5;28;43minput\u001b[39;49m\u001b[43m)\u001b[49m)\n\u001b[1;32m     17\u001b[0m     \u001b[38;5;66;03m#Update input to be output of this layer\u001b[39;00m\n\u001b[1;32m     18\u001b[0m     \u001b[38;5;28minput\u001b[39m \u001b[38;5;241m=\u001b[39m activations[\u001b[38;5;241m-\u001b[39m\u001b[38;5;241m1\u001b[39m]\n",
      "Cell \u001b[0;32mIn[5], line 16\u001b[0m, in \u001b[0;36mDense.forward\u001b[0;34m(self, input)\u001b[0m\n\u001b[1;32m     14\u001b[0m \u001b[38;5;28;01mdef\u001b[39;00m \u001b[38;5;21mforward\u001b[39m(\u001b[38;5;28mself\u001b[39m, \u001b[38;5;28minput\u001b[39m):\n\u001b[1;32m     15\u001b[0m     \u001b[38;5;66;03m#f(x) = W*x + b\u001b[39;00m\n\u001b[0;32m---> 16\u001b[0m     \u001b[38;5;28;01mreturn\u001b[39;00m \u001b[43mnp\u001b[49m\u001b[38;5;241;43m.\u001b[39;49m\u001b[43mdot\u001b[49m\u001b[43m(\u001b[49m\u001b[38;5;28;43minput\u001b[39;49m\u001b[43m,\u001b[49m\u001b[43m \u001b[49m\u001b[38;5;28;43mself\u001b[39;49m\u001b[38;5;241;43m.\u001b[39;49m\u001b[43mweights\u001b[49m\u001b[43m)\u001b[49m \u001b[38;5;241m+\u001b[39m \u001b[38;5;28mself\u001b[39m\u001b[38;5;241m.\u001b[39mbiases\n",
      "\u001b[0;31mKeyboardInterrupt\u001b[0m: "
     ]
    }
   ],
   "source": [
    "#Create and iterate through mini-batches\n",
    "def iterate_minibatches(inputs, targets, batchsize, shuffle=False):\n",
    "    assert len(inputs) == len(targets)\n",
    "    \n",
    "    if shuffle:\n",
    "        indices = np.random.permutation(len(inputs))\n",
    "        \n",
    "    for start_idx in trange(0, len(inputs) - batchsize + 1, batchsize):\n",
    "        if shuffle:\n",
    "            excerpt = indices[start_idx:start_idx + batchsize]\n",
    "        else:\n",
    "            excerpt = slice(start_idx, start_idx + batchsize)\n",
    "            \n",
    "        yield inputs[excerpt], targets[excerpt]\n",
    "\n",
    "#Keep track of prediction accuracy\n",
    "train_log = []\n",
    "val_log = []\n",
    "for epoch in range(100):\n",
    "    for x_batch,y_batch in iterate_minibatches(X_train,y_train,batchsize=64,shuffle=True):\n",
    "        train(network,x_batch,y_batch)\n",
    "    \n",
    "    train_log.append(np.mean(predict(network,X_train)==y_train))\n",
    "    val_log.append(np.mean(predict(network,X_val)==y_val))\n",
    "        \n",
    "    clear_output()\n",
    "    print(\"Epoch\",epoch)\n",
    "    print(\"Train accuracy:\",train_log[-1])\n",
    "    print(\"Val accuracy:\",val_log[-1])\n",
    "    plt.plot(train_log,label='train accuracy')\n",
    "    plt.plot(val_log,label='val accuracy')\n",
    "    plt.legend(loc='best')\n",
    "    plt.grid()\n",
    "    plt.show()"
   ]
  },
  {
   "cell_type": "code",
   "execution_count": null,
   "id": "ce8c5b6d-b46f-4f65-872a-4d79d50c56a7",
   "metadata": {},
   "outputs": [],
   "source": [
    "#With this simple model, at larger learning rates a local minimum is reached. "
   ]
  }
 ],
 "metadata": {
  "kernelspec": {
   "display_name": "Python 3 (ipykernel)",
   "language": "python",
   "name": "python3"
  },
  "language_info": {
   "codemirror_mode": {
    "name": "ipython",
    "version": 3
   },
   "file_extension": ".py",
   "mimetype": "text/x-python",
   "name": "python",
   "nbconvert_exporter": "python",
   "pygments_lexer": "ipython3",
   "version": "3.10.12"
  }
 },
 "nbformat": 4,
 "nbformat_minor": 5
}
